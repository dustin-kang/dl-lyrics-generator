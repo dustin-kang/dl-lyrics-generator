{
  "nbformat": 4,
  "nbformat_minor": 0,
  "metadata": {
    "colab": {
      "name": "[P401]Collecting_Data.ipynb",
      "provenance": [],
      "collapsed_sections": [
        "w-uNT-fgTaYM",
        "LDXCp-4ITq3I",
        "N6CpsklbUF-r"
      ],
      "include_colab_link": true
    },
    "kernelspec": {
      "name": "python3",
      "display_name": "Python 3"
    },
    "language_info": {
      "name": "python"
    }
  },
  "cells": [
    {
      "cell_type": "markdown",
      "metadata": {
        "id": "view-in-github",
        "colab_type": "text"
      },
      "source": [
        "<a href=\"https://colab.research.google.com/github/dustin-kang/Proj4_LyricsGenerator/blob/main/Note/%5BP401%5DCollecting_Data.ipynb\" target=\"_parent\"><img src=\"https://colab.research.google.com/assets/colab-badge.svg\" alt=\"Open In Colab\"/></a>"
      ]
    },
    {
      "cell_type": "markdown",
      "source": [
        "# 📊 데이터 선정\n",
        "- 작사에 어려움을 느끼는 사람들을 위해서 발맞춤을 해줄 가사 생성기를 제작하려고 한다.\n",
        "- 트렌트를 고려하여 현재 [해외 음악 Top 100 <Naver Vibe 기준>](https://vibe.naver.com/chart) 기준으로 크롤링을 한다.\n"
      ],
      "metadata": {
        "id": "SU08uB3sSU_I"
      }
    },
    {
      "cell_type": "markdown",
      "source": [
        "## 1. 크롬드라이버 설치 및 관련 모듈 임포트"
      ],
      "metadata": {
        "id": "w-uNT-fgTaYM"
      }
    },
    {
      "cell_type": "code",
      "source": [
        "!pip install selenium\n",
        "!apt-get update\n",
        "!apt install chromium-chromedriver\n",
        "!cp /usr/lib/chromium-browser/chromedriver /usr/bin"
      ],
      "metadata": {
        "id": "3IvG1jqEvym_"
      },
      "execution_count": 1,
      "outputs": []
    },
    {
      "cell_type": "code",
      "source": [
        "import pandas as pd\n",
        "import numpy as np"
      ],
      "metadata": {
        "id": "HJqPeBL2vsXu"
      },
      "execution_count": null,
      "outputs": []
    },
    {
      "cell_type": "code",
      "execution_count": null,
      "metadata": {
        "id": "9EAN2u_vvfxA"
      },
      "outputs": [],
      "source": [
        "from selenium import webdriver\n",
        "import time"
      ]
    },
    {
      "cell_type": "code",
      "source": [
        "from selenium   import webdriver\n",
        "from selenium.webdriver.chrome.options import Options\n",
        "from selenium.webdriver.common.keys import Keys\n",
        "options = Options()\n",
        "options.add_argument('--start-fullscreen')"
      ],
      "metadata": {
        "id": "O_6wPiNuCsAK"
      },
      "execution_count": null,
      "outputs": []
    },
    {
      "cell_type": "code",
      "source": [
        "#Colab에서는 웹 브라우저가 뜨지 않으므로 설정을 해주어야 한다.\n",
        " \n",
        "options = webdriver.ChromeOptions()\n",
        "options.add_argument('--headless')        # Head-less 설정\n",
        "options.add_argument('--no-sandbox')\n",
        "options.add_argument('--disable-dev-shm-usage')\n",
        "driver = webdriver.Chrome('chromedriver', options=options)"
      ],
      "metadata": {
        "id": "Z0qY_UkevxGy"
      },
      "execution_count": null,
      "outputs": []
    },
    {
      "cell_type": "markdown",
      "source": [
        "## 2. 우선, 셀리니움을 이용해 1곡을 기준으로 노래 정보 크롤링하기"
      ],
      "metadata": {
        "id": "LDXCp-4ITq3I"
      }
    },
    {
      "cell_type": "code",
      "source": [
        "dance = 'https://vibe.naver.com/chart/genre-OS102'\n",
        "rnb = 'https://vibe.naver.com/chart/genre-OS105'\n",
        "electro = 'https://vibe.naver.com/chart/genre-OS103'\n",
        "hiphop = 'https://vibe.naver.com/chart/genre-OS104'\n",
        "indi = 'https://vibe.naver.com/chart/genre-OS108'\n",
        "folk = 'https://vibe.naver.com/chart/genre-OS109'\n",
        "jazz = 'https://vibe.naver.com/chart/genre-OS107'"
      ],
      "metadata": {
        "id": "aVsCLVKTNeBM"
      },
      "execution_count": null,
      "outputs": []
    },
    {
      "cell_type": "code",
      "source": [
        "driver.get('https://vibe.naver.com/track/44855626')\n",
        "\n",
        "artist = [] # 가수 이름\n",
        "title = [] # 제목\n",
        "lyric = [] # 가사\n",
        "\n",
        "# 음악의 곡 제목을 가져옴\n",
        "musicnames = driver.find_elements_by_css_selector('#content > div.summary_section > div.summary > div.text_area > h2 > span.title')\n",
        "for musicname in musicnames:\n",
        "    title.append(musicname.text[3:])\n",
        "    print(title)\n",
        "\n",
        "# 음악의 가수 명을 가져옴\n",
        "singernames = driver.find_elements_by_css_selector('#content > div.summary_section > div.summary > div.text_area > h2 > span.sub_title > span:nth-child(2)')\n",
        "for singername in singernames:\n",
        "    artist.append(singername.text)\n",
        "    print(artist)\n",
        "\n",
        "# 음악의 가사를 가져옴.\n",
        "songtexts = driver.find_elements_by_css_selector('#content > div.end_section.section_lyrics > p.lyrics.hide') \n",
        "for songtext in songtexts:\n",
        "  lyric.append(songtext.text)\n",
        "  print(lyric)"
      ],
      "metadata": {
        "colab": {
          "base_uri": "https://localhost:8080/"
        },
        "id": "JZdbnXDzOkMc",
        "outputId": "df9889c9-1680-424d-ea59-e84bdeae1075"
      },
      "execution_count": null,
      "outputs": [
        {
          "output_type": "stream",
          "name": "stdout",
          "text": [
            "['Leave The Door Open']\n",
            "['Bruno Mars, Anderson .Paak, Silk Sonic']\n",
            "[\"Say baby, say baby, say baby\\nWhat you doin \\n(what you doin)\\n\\nWhere you at\\n(where you at)\\n\\nOh you got plans  \\n(you got plans)\\n\\nDon't say that       \\n(shut yo trap)\\n\\nI'm sippin wine     \\n(sip sip)\\n\\nIn a robe               \\n(drip drip)\\n\\nI look too good    \\n(look too good)\\n\\nTo be alone         \\n(wooohooo)\\n\\nMy house clean  \\n(house clean)\\n \\nMy pool warm   \\n(pool warm)\\n \\nJust shaved        \\n(smooth like a new born)\\n\\n We should be dancing, romancing\\nIn the east wing and the west wing\\nOf this mansion, what's happenin\\n\\n I aint playin no games\\nEvery word that I say \\nIs coming straight from the heart\\n(so if you tryna lay in these arms)\\n\\n \\nImma leave the door open\\n(imma leave the door open)\\nImma leave the door open girl\\n(Imma leave the door open, hopin)\\n \\nThat you feel the way I feel\\nAnd you want me like I want you tonight baby\\n(tell me that you're coming through) \\n\\nYou're so sweet \\n(so sweet)\\n \\nSo tight\\n(so tight)\\n\\n I won't bite\\n(ahh ahh)\\n \\nUnless you like\\n(unless you like)\\n \\nIf you smoke\\n(what you smoke)\\n\\n I got that haze\\n(purple haze)\\n \\nAnd if you're hungry girl I got filets\\n(woohooo)\\n \\nOoh baby don't keep me \\n(waiting)\\nThere's so much love we could be making\\n(Shamone)\\nI'm talking kissing, Cuddling\\nRose petals in the bathtub\\nGirl lets jump in, It's bubblin\\n\\nI aint playin no games\\nEvery word that I say \\nIs coming straight from the heart\\nSo if you tryna lay in these arms\\n( if you tryna lay in these arms)\\n\\nImma leave the door open\\n(imma leave the door open)\\nImma leave the door open girl\\n(Imma leave the door open, hopin)\\n\\nThat you feel the way I feel\\nAnd you want me like I want you tonight baby\\n(tell me that you're coming through)\\n \\nLa la laaa la la la laaa \\n(I need you baby)\\n \\nLa la laaa la la la laaa\\n(I gotta see you baby)\\n\\nLa la laaa la la la laaa \\n(Girl I'm tryna give you this)\\n(aaaaahhhhhhhhhh)\\n\\nImma leave my door open, baby\\n(imma leave the door open)\\nImma leave, imma leave my door open girl\\n(Imma leave the door open, hopin)\\nAnd I'm hopin\\n\\nHopin that you feel the way I feel\\nAnd you want me like I want you tonight baby\\n(tell me that you're coming through)\\n\\n La la laaa la la la laaa\\nTell me\\n(Tell me that you're coming through)\\n\\nWoo, woo-woo, woo, woo-woo,woo\\nWoo-woo\\nWoo, woo-woo, woo, woo-woo,woo\\nWoo-woo \\n\\nLa la laaa la la la laaa\\n(Tell me that you're coming through)\\n\\nGirl, I'm here just waiting for you\\nCome on over, I'll adore you\\n(I gotta know)\\n(La la laaa la la la laaa)\\nI'm waiting, waiting, waiting for you\\n\\n(Tell me that you're coming through)\\nGirl, I'm here just waiting for you\\nCome on over, I'll adore you\"]\n"
          ]
        },
        {
          "output_type": "stream",
          "name": "stderr",
          "text": [
            "/usr/local/lib/python3.7/dist-packages/ipykernel_launcher.py:8: DeprecationWarning: find_elements_by_* commands are deprecated. Please use find_elements() instead\n",
            "  \n",
            "/usr/local/lib/python3.7/dist-packages/ipykernel_launcher.py:14: DeprecationWarning: find_elements_by_* commands are deprecated. Please use find_elements() instead\n",
            "  \n",
            "/usr/local/lib/python3.7/dist-packages/ipykernel_launcher.py:20: DeprecationWarning: find_elements_by_* commands are deprecated. Please use find_elements() instead\n"
          ]
        }
      ]
    },
    {
      "cell_type": "code",
      "source": [
        "lyric"
      ],
      "metadata": {
        "colab": {
          "base_uri": "https://localhost:8080/"
        },
        "id": "VOi612WNQPQv",
        "outputId": "f1545f11-f033-4c80-cdef-5ff0f2101261"
      },
      "execution_count": null,
      "outputs": [
        {
          "output_type": "execute_result",
          "data": {
            "text/plain": [
              "[\"Say baby, say baby, say baby\\nWhat you doin \\n(what you doin)\\n\\nWhere you at\\n(where you at)\\n\\nOh you got plans  \\n(you got plans)\\n\\nDon't say that       \\n(shut yo trap)\\n\\nI'm sippin wine     \\n(sip sip)\\n\\nIn a robe               \\n(drip drip)\\n\\nI look too good    \\n(look too good)\\n\\nTo be alone         \\n(wooohooo)\\n\\nMy house clean  \\n(house clean)\\n \\nMy pool warm   \\n(pool warm)\\n \\nJust shaved        \\n(smooth like a new born)\\n\\n We should be dancing, romancing\\nIn the east wing and the west wing\\nOf this mansion, what's happenin\\n\\n I aint playin no games\\nEvery word that I say \\nIs coming straight from the heart\\n(so if you tryna lay in these arms)\\n\\n \\nImma leave the door open\\n(imma leave the door open)\\nImma leave the door open girl\\n(Imma leave the door open, hopin)\\n \\nThat you feel the way I feel\\nAnd you want me like I want you tonight baby\\n(tell me that you're coming through) \\n\\nYou're so sweet \\n(so sweet)\\n \\nSo tight\\n(so tight)\\n\\n I won't bite\\n(ahh ahh)\\n \\nUnless you like\\n(unless you like)\\n \\nIf you smoke\\n(what you smoke)\\n\\n I got that haze\\n(purple haze)\\n \\nAnd if you're hungry girl I got filets\\n(woohooo)\\n \\nOoh baby don't keep me \\n(waiting)\\nThere's so much love we could be making\\n(Shamone)\\nI'm talking kissing, Cuddling\\nRose petals in the bathtub\\nGirl lets jump in, It's bubblin\\n\\nI aint playin no games\\nEvery word that I say \\nIs coming straight from the heart\\nSo if you tryna lay in these arms\\n( if you tryna lay in these arms)\\n\\nImma leave the door open\\n(imma leave the door open)\\nImma leave the door open girl\\n(Imma leave the door open, hopin)\\n\\nThat you feel the way I feel\\nAnd you want me like I want you tonight baby\\n(tell me that you're coming through)\\n \\nLa la laaa la la la laaa \\n(I need you baby)\\n \\nLa la laaa la la la laaa\\n(I gotta see you baby)\\n\\nLa la laaa la la la laaa \\n(Girl I'm tryna give you this)\\n(aaaaahhhhhhhhhh)\\n\\nImma leave my door open, baby\\n(imma leave the door open)\\nImma leave, imma leave my door open girl\\n(Imma leave the door open, hopin)\\nAnd I'm hopin\\n\\nHopin that you feel the way I feel\\nAnd you want me like I want you tonight baby\\n(tell me that you're coming through)\\n\\n La la laaa la la la laaa\\nTell me\\n(Tell me that you're coming through)\\n\\nWoo, woo-woo, woo, woo-woo,woo\\nWoo-woo\\nWoo, woo-woo, woo, woo-woo,woo\\nWoo-woo \\n\\nLa la laaa la la la laaa\\n(Tell me that you're coming through)\\n\\nGirl, I'm here just waiting for you\\nCome on over, I'll adore you\\n(I gotta know)\\n(La la laaa la la la laaa)\\nI'm waiting, waiting, waiting for you\\n\\n(Tell me that you're coming through)\\nGirl, I'm here just waiting for you\\nCome on over, I'll adore you\"]"
            ]
          },
          "metadata": {},
          "execution_count": 11
        }
      ]
    },
    {
      "cell_type": "markdown",
      "source": [
        "## 3. 곡 마다의 음악 페이지를 `for`문으로 돌면서 음악 정보 크롤링 하기"
      ],
      "metadata": {
        "id": "N6CpsklbUF-r"
      }
    },
    {
      "cell_type": "markdown",
      "source": [
        "### dance"
      ],
      "metadata": {
        "id": "CoZDGOJYOplt"
      }
    },
    {
      "cell_type": "code",
      "source": [
        "#해당 url로 이동\n",
        "musiclinks = [] # 음악 링크\n",
        "\n",
        "artist = [] # 가수 이름\n",
        "title = [] # 제목\n",
        "ranking = [] # 랭킹\n",
        "lyric = [] # 가사\n",
        "\n",
        "driver.get(dance)\n",
        "\n",
        "time.sleep(3)\n",
        "driver.execute_script(\"window.scrollTo(0, document.body.scrollHeight);\") # 문서 스크롤 활성화\n",
        "\n",
        "ranking100 = driver.find_elements_by_css_selector('#content > div.track_section > div:nth-child(1) > div > table > tbody > tr > td.rank > span.text')\n",
        "for b in ranking100:\n",
        "    ranking.append(b.text)\n",
        "    \n",
        "driver.implicitly_wait(3)\n",
        "\n",
        "\n",
        "links = driver.find_elements_by_css_selector('#content > div.track_section > div:nth-child(1) > div > table > tbody > tr > td.song > div.title_badge_wrap > span > a')\n",
        "for link in links:\n",
        "    musiclinks.append(link.get_attribute('href')) # 각 음악들의 링크마다 (랩 힙합 장르 1위 부터 100위까지)\n",
        "\n",
        "for musiclink in musiclinks:\n",
        "    driver.get(musiclink)\n",
        "\n",
        "    # 음악의 곡 제목을 가져옴\n",
        "    musicnames = driver.find_elements_by_css_selector('#content > div.summary_section > div.summary > div.text_area > h2 > span.title')\n",
        "    for musicname in musicnames:\n",
        "        title.append(musicname.text[3:])\n",
        "        print(title)\n",
        "\n",
        "    # 음악의 가수 명을 가져옴\n",
        "    singernames = driver.find_elements_by_css_selector('#content > div.summary_section > div.summary > div.text_area > h2 > span.sub_title > span:nth-child(2)')\n",
        "    for singername in singernames:\n",
        "        artist.append(singername.text)\n",
        "        print(artist)\n",
        "\n",
        "    # 가사를 가져옴.\n",
        "    songtexts = driver.find_elements_by_css_selector('#content > div.end_section.section_lyrics > p.lyrics.hide') \n",
        "    for songtext in songtexts:\n",
        "      lyric.append(songtext.text)\n",
        "      print(lyric)\n",
        "    "
      ],
      "metadata": {
        "id": "MNVBmjQRxe21"
      },
      "execution_count": 2,
      "outputs": []
    },
    {
      "cell_type": "markdown",
      "source": [
        "### rnb"
      ],
      "metadata": {
        "id": "X7FRzTWXPGe7"
      }
    },
    {
      "cell_type": "code",
      "source": [
        "driver.get(rnb)\n",
        "\n",
        "time.sleep(3)\n",
        "driver.execute_script(\"window.scrollTo(0, document.body.scrollHeight);\") # 문서 스크롤 활성화\n",
        "\n",
        "ranking100 = driver.find_elements_by_css_selector('#content > div.track_section > div:nth-child(1) > div > table > tbody > tr > td.rank > span.text')\n",
        "for b in ranking100:\n",
        "    ranking.append(b.text)\n",
        "    \n",
        "driver.implicitly_wait(3)\n",
        "\n",
        "\n",
        "links = driver.find_elements_by_css_selector('#content > div.track_section > div:nth-child(1) > div > table > tbody > tr > td.song > div.title_badge_wrap > span > a')\n",
        "for link in links:\n",
        "    musiclinks.append(link.get_attribute('href')) # 각 음악들의 링크마다 (랩 힙합 장르 1위 부터 100위까지)\n",
        "\n",
        "for musiclink in musiclinks:\n",
        "    driver.get(musiclink)\n",
        "\n",
        "    # 음악의 곡 제목을 가져옴\n",
        "    musicnames = driver.find_elements_by_css_selector('#content > div.summary_section > div.summary > div.text_area > h2 > span.title')\n",
        "    for musicname in musicnames:\n",
        "        title.append(musicname.text[3:])\n",
        "        print(title)\n",
        "\n",
        "    # 음악의 가수 명을 가져옴\n",
        "    singernames = driver.find_elements_by_css_selector('#content > div.summary_section > div.summary > div.text_area > h2 > span.sub_title > span:nth-child(2)')\n",
        "    for singername in singernames:\n",
        "        artist.append(singername.text)\n",
        "        print(artist)\n",
        "\n",
        "    # 가사를 가져옴.\n",
        "    songtexts = driver.find_elements_by_css_selector('#content > div.end_section.section_lyrics > p.lyrics.hide') \n",
        "    for songtext in songtexts:\n",
        "      lyric.append(songtext.text)\n",
        "      print(lyric)"
      ],
      "metadata": {
        "id": "hyCZ251sPG2w"
      },
      "execution_count": 3,
      "outputs": []
    },
    {
      "cell_type": "markdown",
      "source": [
        "### electro"
      ],
      "metadata": {
        "id": "KTKJQgvAPiux"
      }
    },
    {
      "cell_type": "code",
      "source": [
        "driver.get(electro)\n",
        "\n",
        "time.sleep(3)\n",
        "driver.execute_script(\"window.scrollTo(0, document.body.scrollHeight);\") # 문서 스크롤 활성화\n",
        "\n",
        "ranking100 = driver.find_elements_by_css_selector('#content > div.track_section > div:nth-child(1) > div > table > tbody > tr > td.rank > span.text')\n",
        "for b in ranking100:\n",
        "    ranking.append(b.text)\n",
        "    \n",
        "driver.implicitly_wait(3)\n",
        "\n",
        "\n",
        "links = driver.find_elements_by_css_selector('#content > div.track_section > div:nth-child(1) > div > table > tbody > tr > td.song > div.title_badge_wrap > span > a')\n",
        "for link in links:\n",
        "    musiclinks.append(link.get_attribute('href')) # 각 음악들의 링크마다 (랩 힙합 장르 1위 부터 100위까지)\n",
        "\n",
        "for musiclink in musiclinks:\n",
        "    driver.get(musiclink)\n",
        "\n",
        "    # 음악의 곡 제목을 가져옴\n",
        "    musicnames = driver.find_elements_by_css_selector('#content > div.summary_section > div.summary > div.text_area > h2 > span.title')\n",
        "    for musicname in musicnames:\n",
        "        title.append(musicname.text[3:])\n",
        "        \n",
        "    # 음악의 가수 명을 가져옴\n",
        "    singernames = driver.find_elements_by_css_selector('#content > div.summary_section > div.summary > div.text_area > h2 > span.sub_title > span:nth-child(2)')\n",
        "    for singername in singernames:\n",
        "        artist.append(singername.text)\n",
        "      \n",
        "\n",
        "    # 가사를 가져옴.\n",
        "    songtexts = driver.find_elements_by_css_selector('#content > div.end_section.section_lyrics > p.lyrics.hide') \n",
        "    for songtext in songtexts:\n",
        "      lyric.append(songtext.text)\n",
        "      "
      ],
      "metadata": {
        "colab": {
          "base_uri": "https://localhost:8080/"
        },
        "id": "V9nflTR3Ph8w",
        "outputId": "d1d462e8-0838-4ab1-cd7b-d89058621a2d"
      },
      "execution_count": null,
      "outputs": [
        {
          "output_type": "stream",
          "name": "stderr",
          "text": [
            "/usr/local/lib/python3.7/dist-packages/ipykernel_launcher.py:6: DeprecationWarning: find_elements_by_* commands are deprecated. Please use find_elements() instead\n",
            "  \n",
            "/usr/local/lib/python3.7/dist-packages/ipykernel_launcher.py:13: DeprecationWarning: find_elements_by_* commands are deprecated. Please use find_elements() instead\n",
            "  del sys.path[0]\n",
            "/usr/local/lib/python3.7/dist-packages/ipykernel_launcher.py:21: DeprecationWarning: find_elements_by_* commands are deprecated. Please use find_elements() instead\n",
            "/usr/local/lib/python3.7/dist-packages/ipykernel_launcher.py:26: DeprecationWarning: find_elements_by_* commands are deprecated. Please use find_elements() instead\n",
            "/usr/local/lib/python3.7/dist-packages/ipykernel_launcher.py:32: DeprecationWarning: find_elements_by_* commands are deprecated. Please use find_elements() instead\n"
          ]
        }
      ]
    },
    {
      "cell_type": "markdown",
      "source": [
        "### hiphop"
      ],
      "metadata": {
        "id": "WC7ZIoKTPwY5"
      }
    },
    {
      "cell_type": "code",
      "source": [
        "driver.get(hiphop)\n",
        "\n",
        "time.sleep(3)\n",
        "driver.execute_script(\"window.scrollTo(0, document.body.scrollHeight);\") # 문서 스크롤 활성화\n",
        "\n",
        "ranking100 = driver.find_elements_by_css_selector('#content > div.track_section > div:nth-child(1) > div > table > tbody > tr > td.rank > span.text')\n",
        "for b in ranking100:\n",
        "    ranking.append(b.text)\n",
        "    \n",
        "driver.implicitly_wait(3)\n",
        "\n",
        "\n",
        "links = driver.find_elements_by_css_selector('#content > div.track_section > div:nth-child(1) > div > table > tbody > tr > td.song > div.title_badge_wrap > span > a')\n",
        "for link in links:\n",
        "    musiclinks.append(link.get_attribute('href')) # 각 음악들의 링크마다 (랩 힙합 장르 1위 부터 100위까지)\n",
        "\n",
        "for musiclink in musiclinks:\n",
        "    driver.get(musiclink)\n",
        "\n",
        "    # 음악의 곡 제목을 가져옴\n",
        "    musicnames = driver.find_elements_by_css_selector('#content > div.summary_section > div.summary > div.text_area > h2 > span.title')\n",
        "    for musicname in musicnames:\n",
        "        title.append(musicname.text[3:])\n",
        "        \n",
        "\n",
        "    # 음악의 가수 명을 가져옴\n",
        "    singernames = driver.find_elements_by_css_selector('#content > div.summary_section > div.summary > div.text_area > h2 > span.sub_title > span:nth-child(2)')\n",
        "    for singername in singernames:\n",
        "        artist.append(singername.text)\n",
        "        \n",
        "\n",
        "    # 가사를 가져옴.\n",
        "    songtexts = driver.find_elements_by_css_selector('#content > div.end_section.section_lyrics > p.lyrics.hide') \n",
        "    for songtext in songtexts:\n",
        "      lyric.append(songtext.text)\n",
        "      "
      ],
      "metadata": {
        "colab": {
          "base_uri": "https://localhost:8080/"
        },
        "id": "dxfh3XqDPy-k",
        "outputId": "27e9f653-5c0f-4b48-f673-795dce073745"
      },
      "execution_count": null,
      "outputs": [
        {
          "output_type": "stream",
          "name": "stderr",
          "text": [
            "/usr/local/lib/python3.7/dist-packages/ipykernel_launcher.py:6: DeprecationWarning: find_elements_by_* commands are deprecated. Please use find_elements() instead\n",
            "  \n",
            "/usr/local/lib/python3.7/dist-packages/ipykernel_launcher.py:13: DeprecationWarning: find_elements_by_* commands are deprecated. Please use find_elements() instead\n",
            "  del sys.path[0]\n",
            "/usr/local/lib/python3.7/dist-packages/ipykernel_launcher.py:21: DeprecationWarning: find_elements_by_* commands are deprecated. Please use find_elements() instead\n",
            "/usr/local/lib/python3.7/dist-packages/ipykernel_launcher.py:27: DeprecationWarning: find_elements_by_* commands are deprecated. Please use find_elements() instead\n",
            "/usr/local/lib/python3.7/dist-packages/ipykernel_launcher.py:33: DeprecationWarning: find_elements_by_* commands are deprecated. Please use find_elements() instead\n"
          ]
        }
      ]
    },
    {
      "cell_type": "markdown",
      "source": [
        "### indi"
      ],
      "metadata": {
        "id": "YTdU3rYhP3ep"
      }
    },
    {
      "cell_type": "code",
      "source": [
        "driver.get(indi)\n",
        "\n",
        "time.sleep(3)\n",
        "driver.execute_script(\"window.scrollTo(0, document.body.scrollHeight);\") # 문서 스크롤 활성화\n",
        "\n",
        "ranking100 = driver.find_elements_by_css_selector('#content > div.track_section > div:nth-child(1) > div > table > tbody > tr > td.rank > span.text')\n",
        "for b in ranking100:\n",
        "    ranking.append(b.text)\n",
        "    \n",
        "driver.implicitly_wait(3)\n",
        "\n",
        "\n",
        "links = driver.find_elements_by_css_selector('#content > div.track_section > div:nth-child(1) > div > table > tbody > tr > td.song > div.title_badge_wrap > span > a')\n",
        "for link in links:\n",
        "    musiclinks.append(link.get_attribute('href')) # 각 음악들의 링크마다 (랩 힙합 장르 1위 부터 100위까지)\n",
        "\n",
        "for musiclink in musiclinks:\n",
        "    driver.get(musiclink)\n",
        "\n",
        "    # 음악의 곡 제목을 가져옴\n",
        "    musicnames = driver.find_elements_by_css_selector('#content > div.summary_section > div.summary > div.text_area > h2 > span.title')\n",
        "    for musicname in musicnames:\n",
        "        title.append(musicname.text[3:])\n",
        "        \n",
        "\n",
        "    # 음악의 가수 명을 가져옴\n",
        "    singernames = driver.find_elements_by_css_selector('#content > div.summary_section > div.summary > div.text_area > h2 > span.sub_title > span:nth-child(2)')\n",
        "    for singername in singernames:\n",
        "        artist.append(singername.text)\n",
        "        \n",
        "\n",
        "    # 가사를 가져옴.\n",
        "    songtexts = driver.find_elements_by_css_selector('#content > div.end_section.section_lyrics > p.lyrics.hide') \n",
        "    for songtext in songtexts:\n",
        "      lyric.append(songtext.text)\n",
        "      "
      ],
      "metadata": {
        "colab": {
          "base_uri": "https://localhost:8080/"
        },
        "id": "V3XFUPsaP6NL",
        "outputId": "a0d01255-c63c-4a9f-a8ce-580445df5c22"
      },
      "execution_count": null,
      "outputs": [
        {
          "output_type": "stream",
          "name": "stderr",
          "text": [
            "/usr/local/lib/python3.7/dist-packages/ipykernel_launcher.py:6: DeprecationWarning: find_elements_by_* commands are deprecated. Please use find_elements() instead\n",
            "  \n",
            "/usr/local/lib/python3.7/dist-packages/ipykernel_launcher.py:13: DeprecationWarning: find_elements_by_* commands are deprecated. Please use find_elements() instead\n",
            "  del sys.path[0]\n",
            "/usr/local/lib/python3.7/dist-packages/ipykernel_launcher.py:21: DeprecationWarning: find_elements_by_* commands are deprecated. Please use find_elements() instead\n",
            "/usr/local/lib/python3.7/dist-packages/ipykernel_launcher.py:27: DeprecationWarning: find_elements_by_* commands are deprecated. Please use find_elements() instead\n",
            "/usr/local/lib/python3.7/dist-packages/ipykernel_launcher.py:33: DeprecationWarning: find_elements_by_* commands are deprecated. Please use find_elements() instead\n"
          ]
        }
      ]
    },
    {
      "cell_type": "markdown",
      "source": [
        "### folk"
      ],
      "metadata": {
        "id": "6VokZNT3P_Tj"
      }
    },
    {
      "cell_type": "code",
      "source": [
        "driver.get(folk)\n",
        "\n",
        "time.sleep(3)\n",
        "driver.execute_script(\"window.scrollTo(0, document.body.scrollHeight);\") # 문서 스크롤 활성화\n",
        "\n",
        "ranking100 = driver.find_elements_by_css_selector('#content > div.track_section > div:nth-child(1) > div > table > tbody > tr > td.rank > span.text')\n",
        "for b in ranking100:\n",
        "    ranking.append(b.text)\n",
        "    \n",
        "driver.implicitly_wait(3)\n",
        "\n",
        "\n",
        "links = driver.find_elements_by_css_selector('#content > div.track_section > div:nth-child(1) > div > table > tbody > tr > td.song > div.title_badge_wrap > span > a')\n",
        "for link in links:\n",
        "    musiclinks.append(link.get_attribute('href')) # 각 음악들의 링크마다 (랩 힙합 장르 1위 부터 100위까지)\n",
        "\n",
        "for musiclink in musiclinks:\n",
        "    driver.get(musiclink)\n",
        "\n",
        "    # 음악의 곡 제목을 가져옴\n",
        "    musicnames = driver.find_elements_by_css_selector('#content > div.summary_section > div.summary > div.text_area > h2 > span.title')\n",
        "    for musicname in musicnames:\n",
        "        title.append(musicname.text[3:])\n",
        "        \n",
        "\n",
        "    # 음악의 가수 명을 가져옴\n",
        "    singernames = driver.find_elements_by_css_selector('#content > div.summary_section > div.summary > div.text_area > h2 > span.sub_title > span:nth-child(2)')\n",
        "    for singername in singernames:\n",
        "        artist.append(singername.text)\n",
        "        \n",
        "\n",
        "    # 가사를 가져옴.\n",
        "    songtexts = driver.find_elements_by_css_selector('#content > div.end_section.section_lyrics > p.lyrics.hide') \n",
        "    for songtext in songtexts:\n",
        "      lyric.append(songtext.text)\n",
        "      "
      ],
      "metadata": {
        "colab": {
          "base_uri": "https://localhost:8080/"
        },
        "id": "uaA6c-hWQBac",
        "outputId": "eeb2365c-c787-47c0-ac5f-5323abc0c47e"
      },
      "execution_count": null,
      "outputs": [
        {
          "output_type": "stream",
          "name": "stderr",
          "text": [
            "/usr/local/lib/python3.7/dist-packages/ipykernel_launcher.py:6: DeprecationWarning: find_elements_by_* commands are deprecated. Please use find_elements() instead\n",
            "  \n",
            "/usr/local/lib/python3.7/dist-packages/ipykernel_launcher.py:13: DeprecationWarning: find_elements_by_* commands are deprecated. Please use find_elements() instead\n",
            "  del sys.path[0]\n",
            "/usr/local/lib/python3.7/dist-packages/ipykernel_launcher.py:21: DeprecationWarning: find_elements_by_* commands are deprecated. Please use find_elements() instead\n",
            "/usr/local/lib/python3.7/dist-packages/ipykernel_launcher.py:27: DeprecationWarning: find_elements_by_* commands are deprecated. Please use find_elements() instead\n",
            "/usr/local/lib/python3.7/dist-packages/ipykernel_launcher.py:33: DeprecationWarning: find_elements_by_* commands are deprecated. Please use find_elements() instead\n"
          ]
        }
      ]
    },
    {
      "cell_type": "markdown",
      "source": [
        "### jazz"
      ],
      "metadata": {
        "id": "MVoaocAoQFo0"
      }
    },
    {
      "cell_type": "code",
      "source": [
        "driver.get(jazz)\n",
        "\n",
        "time.sleep(3)\n",
        "driver.execute_script(\"window.scrollTo(0, document.body.scrollHeight);\") # 문서 스크롤 활성화\n",
        "\n",
        "ranking100 = driver.find_elements_by_css_selector('#content > div.track_section > div:nth-child(1) > div > table > tbody > tr > td.rank > span.text')\n",
        "for b in ranking100:\n",
        "    ranking.append(b.text)\n",
        "    \n",
        "driver.implicitly_wait(3)\n",
        "\n",
        "\n",
        "links = driver.find_elements_by_css_selector('#content > div.track_section > div:nth-child(1) > div > table > tbody > tr > td.song > div.title_badge_wrap > span > a')\n",
        "for link in links:\n",
        "    musiclinks.append(link.get_attribute('href')) # 각 음악들의 링크마다 (랩 힙합 장르 1위 부터 100위까지)\n",
        "\n",
        "for musiclink in musiclinks:\n",
        "    driver.get(musiclink)\n",
        "\n",
        "    # 음악의 곡 제목을 가져옴\n",
        "    musicnames = driver.find_elements_by_css_selector('#content > div.summary_section > div.summary > div.text_area > h2 > span.title')\n",
        "    for musicname in musicnames:\n",
        "        title.append(musicname.text[3:])\n",
        "        print(title)\n",
        "\n",
        "    # 음악의 가수 명을 가져옴\n",
        "    singernames = driver.find_elements_by_css_selector('#content > div.summary_section > div.summary > div.text_area > h2 > span.sub_title > span:nth-child(2)')\n",
        "    for singername in singernames:\n",
        "        artist.append(singername.text)\n",
        "        print(artist)\n",
        "\n",
        "    # 가사를 가져옴.\n",
        "    songtexts = driver.find_elements_by_css_selector('#content > div.end_section.section_lyrics > p.lyrics.hide') \n",
        "    for songtext in songtexts:\n",
        "      lyric.append(songtext.text)\n",
        "      print(lyric)"
      ],
      "metadata": {
        "id": "ed8ktAvyQPmV"
      },
      "execution_count": 4,
      "outputs": []
    },
    {
      "cell_type": "markdown",
      "source": [
        "## 4. `dictionary`화 시킨다음, csv 파일로 저장한다."
      ],
      "metadata": {
        "id": "hbG09p30USQV"
      }
    },
    {
      "cell_type": "code",
      "source": [
        "top = [{\n",
        "    'song' : props[0],\n",
        "    'singer' : props[1],\n",
        "    'lyrics' : props[2]\n",
        "} for props in zip(title, artist, lyric)]"
      ],
      "metadata": {
        "id": "XI-pH52p11zl"
      },
      "execution_count": null,
      "outputs": []
    },
    {
      "cell_type": "code",
      "source": [
        "import csv\n",
        "with open('vibe_j.csv', 'w')as csvfile:\n",
        "   csvoutput = csv.DictWriter(csvfile,['lyrics','singer','song'])\n",
        "   csvoutput.writeheader()\n",
        "   csvoutput.writerows(top)"
      ],
      "metadata": {
        "id": "3xQGxaINBfRk"
      },
      "execution_count": null,
      "outputs": []
    }
  ]
}